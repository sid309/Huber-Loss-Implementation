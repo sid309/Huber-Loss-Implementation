{
  "nbformat": 4,
  "nbformat_minor": 0,
  "metadata": {
    "colab": {
      "name": "Huber Loss as an Object.ipynb",
      "provenance": []
    },
    "kernelspec": {
      "name": "python3",
      "display_name": "Python 3"
    },
    "language_info": {
      "name": "python"
    }
  },
  "cells": [
    {
      "cell_type": "code",
      "metadata": {
        "id": "OG6t4KnMCdZg"
      },
      "source": [
        "try:\n",
        "  %tensorflow_version 2.x\n",
        "except Exception:\n",
        "  pass"
      ],
      "execution_count": 1,
      "outputs": []
    },
    {
      "cell_type": "code",
      "metadata": {
        "id": "QDCT46BlCzgj"
      },
      "source": [
        "import tensorflow as tf\n",
        "from tensorflow import keras\n",
        "import numpy as np"
      ],
      "execution_count": 2,
      "outputs": []
    },
    {
      "cell_type": "code",
      "metadata": {
        "id": "sT-fNGqgC71h"
      },
      "source": [
        "x=np.array([-1.0,  0.0, 1.0, 2.0, 3.0, 4.0],dtype=float)\n",
        "y=np.array([-3.0, -1.0, 1.0, 3.0, 5.0, 7.0],dtype=float)"
      ],
      "execution_count": 3,
      "outputs": []
    },
    {
      "cell_type": "code",
      "metadata": {
        "colab": {
          "base_uri": "https://localhost:8080/"
        },
        "id": "2NNMi_5lDRTJ",
        "outputId": "a2f8d3e8-b847-4d63-d571-4e8afe4b2c0a"
      },
      "source": [
        "model=tf.keras.Sequential([tf.keras.layers.Dense(1,input_shape=[1])])\n",
        "model.compile(optimizer='sgd',loss='mse')\n",
        "model.fit(x,y,epochs=500,verbose=0)"
      ],
      "execution_count": 4,
      "outputs": [
        {
          "output_type": "execute_result",
          "data": {
            "text/plain": [
              "<keras.callbacks.History at 0x7ff45bf46b50>"
            ]
          },
          "metadata": {
            "tags": []
          },
          "execution_count": 4
        }
      ]
    },
    {
      "cell_type": "code",
      "metadata": {
        "colab": {
          "base_uri": "https://localhost:8080/"
        },
        "id": "OgU_qfokD-_P",
        "outputId": "d0aa66fd-86d5-4976-cc36-c16b930d505c"
      },
      "source": [
        "model.predict([10])"
      ],
      "execution_count": 5,
      "outputs": [
        {
          "output_type": "execute_result",
          "data": {
            "text/plain": [
              "array([[18.980131]], dtype=float32)"
            ]
          },
          "metadata": {
            "tags": []
          },
          "execution_count": 5
        }
      ]
    },
    {
      "cell_type": "code",
      "metadata": {
        "id": "HbAwicaUEF5i"
      },
      "source": [
        "class HuberLoss(tf.keras.losses.Loss):\n",
        "  threshold=1\n",
        "  def __init__(self,threshold):\n",
        "    super().__init__()\n",
        "    self.threshold=threshold\n",
        "  def call(self,y_true,y_pred):\n",
        "    error=y_true - y_pred\n",
        "    is_small_error = tf.abs(error) <= self.threshold\n",
        "    small_loss = tf.square(error) / 2\n",
        "    big_loss = self.threshold * (tf.abs(error) - (0.5 * self.threshold))\n",
        "    return tf.where(is_small_error, small_loss, big_loss)\n"
      ],
      "execution_count": 7,
      "outputs": []
    },
    {
      "cell_type": "code",
      "metadata": {
        "colab": {
          "base_uri": "https://localhost:8080/"
        },
        "id": "8Ti7Hd8pFBje",
        "outputId": "dd122757-5ac4-4e43-96d9-164e68ded686"
      },
      "source": [
        "model = tf.keras.Sequential([keras.layers.Dense(units=1, input_shape=[1])])\n",
        "model.compile(optimizer='sgd', loss=HuberLoss(threshold=1.02))\n",
        "model.fit(x, y, epochs=500,verbose=0)\n",
        "print(model.predict([10]))"
      ],
      "execution_count": 8,
      "outputs": [
        {
          "output_type": "stream",
          "text": [
            "[[18.652958]]\n"
          ],
          "name": "stdout"
        }
      ]
    },
    {
      "cell_type": "code",
      "metadata": {
        "id": "-Vre49uDFLrD"
      },
      "source": [
        ""
      ],
      "execution_count": null,
      "outputs": []
    }
  ]
}