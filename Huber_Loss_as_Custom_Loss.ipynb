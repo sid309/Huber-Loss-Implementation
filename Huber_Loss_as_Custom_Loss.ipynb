{
  "nbformat": 4,
  "nbformat_minor": 0,
  "metadata": {
    "colab": {
      "name": "Huber Loss as Custom Loss.ipynb",
      "provenance": []
    },
    "kernelspec": {
      "name": "python3",
      "display_name": "Python 3"
    },
    "language_info": {
      "name": "python"
    }
  },
  "cells": [
    {
      "cell_type": "code",
      "metadata": {
        "id": "OG6t4KnMCdZg"
      },
      "source": [
        "try:\n",
        "  %tensorflow_version 2.x\n",
        "except Exception:\n",
        "  pass"
      ],
      "execution_count": 1,
      "outputs": []
    },
    {
      "cell_type": "code",
      "metadata": {
        "id": "QDCT46BlCzgj"
      },
      "source": [
        "import tensorflow as tf\n",
        "from tensorflow import keras\n",
        "import numpy as np"
      ],
      "execution_count": 2,
      "outputs": []
    },
    {
      "cell_type": "code",
      "metadata": {
        "id": "sT-fNGqgC71h"
      },
      "source": [
        "x=np.array([-1.0,  0.0, 1.0, 2.0, 3.0, 4.0],dtype=float)\n",
        "y=np.array([-3.0, -1.0, 1.0, 3.0, 5.0, 7.0],dtype=float)"
      ],
      "execution_count": 4,
      "outputs": []
    },
    {
      "cell_type": "code",
      "metadata": {
        "colab": {
          "base_uri": "https://localhost:8080/"
        },
        "id": "2NNMi_5lDRTJ",
        "outputId": "747aab63-33a1-4d06-fc2f-419a4554500a"
      },
      "source": [
        "model=tf.keras.Sequential([tf.keras.layers.Dense(1,input_shape=[1])])\n",
        "model.compile(optimizer='sgd',loss='mse')\n",
        "model.fit(x,y,epochs=500,verbose=0)"
      ],
      "execution_count": 8,
      "outputs": [
        {
          "output_type": "execute_result",
          "data": {
            "text/plain": [
              "<keras.callbacks.History at 0x7fd02feaa2d0>"
            ]
          },
          "metadata": {
            "tags": []
          },
          "execution_count": 8
        }
      ]
    },
    {
      "cell_type": "code",
      "metadata": {
        "colab": {
          "base_uri": "https://localhost:8080/"
        },
        "id": "OgU_qfokD-_P",
        "outputId": "7cc6cb54-1c0d-46da-d9c9-46d3751548bf"
      },
      "source": [
        "model.predict([10])"
      ],
      "execution_count": 9,
      "outputs": [
        {
          "output_type": "execute_result",
          "data": {
            "text/plain": [
              "array([[18.980469]], dtype=float32)"
            ]
          },
          "metadata": {
            "tags": []
          },
          "execution_count": 9
        }
      ]
    },
    {
      "cell_type": "code",
      "metadata": {
        "id": "HbAwicaUEF5i"
      },
      "source": [
        "def huber_loss(y_true,y_pred):\n",
        "  threshold=1\n",
        "  error=y_true-y_pred\n",
        "  is_small_error=tf.abs(error)<=threshold\n",
        "  small_loss=tf.square(error)/2\n",
        "  big_loss=threshold*(tf.abs(error)-(0.5*threshold))\n",
        "  return tf.where(is_small_error,small_loss,big_loss)"
      ],
      "execution_count": 10,
      "outputs": []
    },
    {
      "cell_type": "code",
      "metadata": {
        "colab": {
          "base_uri": "https://localhost:8080/"
        },
        "id": "8Ti7Hd8pFBje",
        "outputId": "c7f1b61b-f3d5-4b7a-ff22-d6d7ffa4d98f"
      },
      "source": [
        "model = tf.keras.Sequential([keras.layers.Dense(units=1, input_shape=[1])])\n",
        "model.compile(optimizer='sgd', loss=huber_loss)\n",
        "model.fit(x, y, epochs=500,verbose=0)\n",
        "print(model.predict([10]))"
      ],
      "execution_count": 13,
      "outputs": [
        {
          "output_type": "stream",
          "text": [
            "[[18.53362]]\n"
          ],
          "name": "stdout"
        }
      ]
    },
    {
      "cell_type": "code",
      "metadata": {
        "id": "-Vre49uDFLrD"
      },
      "source": [
        ""
      ],
      "execution_count": null,
      "outputs": []
    }
  ]
}