{
  "nbformat": 4,
  "nbformat_minor": 0,
  "metadata": {
    "colab": {
      "name": "Huber Loss as Custom Loss with Hyperparameter.ipynb",
      "provenance": []
    },
    "kernelspec": {
      "name": "python3",
      "display_name": "Python 3"
    },
    "language_info": {
      "name": "python"
    }
  },
  "cells": [
    {
      "cell_type": "code",
      "metadata": {
        "id": "OG6t4KnMCdZg"
      },
      "source": [
        "try:\n",
        "  %tensorflow_version 2.x\n",
        "except Exception:\n",
        "  pass"
      ],
      "execution_count": 1,
      "outputs": []
    },
    {
      "cell_type": "code",
      "metadata": {
        "id": "QDCT46BlCzgj"
      },
      "source": [
        "import tensorflow as tf\n",
        "from tensorflow import keras\n",
        "import numpy as np"
      ],
      "execution_count": 2,
      "outputs": []
    },
    {
      "cell_type": "code",
      "metadata": {
        "id": "sT-fNGqgC71h"
      },
      "source": [
        "x=np.array([-1.0,  0.0, 1.0, 2.0, 3.0, 4.0],dtype=float)\n",
        "y=np.array([-3.0, -1.0, 1.0, 3.0, 5.0, 7.0],dtype=float)"
      ],
      "execution_count": 3,
      "outputs": []
    },
    {
      "cell_type": "code",
      "metadata": {
        "colab": {
          "base_uri": "https://localhost:8080/"
        },
        "id": "2NNMi_5lDRTJ",
        "outputId": "97b1cf26-df8e-4887-ba86-942c0d37fe6d"
      },
      "source": [
        "model=tf.keras.Sequential([tf.keras.layers.Dense(1,input_shape=[1])])\n",
        "model.compile(optimizer='sgd',loss='mse')\n",
        "model.fit(x,y,epochs=500,verbose=0)"
      ],
      "execution_count": 4,
      "outputs": [
        {
          "output_type": "execute_result",
          "data": {
            "text/plain": [
              "<keras.callbacks.History at 0x7fc1855577d0>"
            ]
          },
          "metadata": {
            "tags": []
          },
          "execution_count": 4
        }
      ]
    },
    {
      "cell_type": "code",
      "metadata": {
        "colab": {
          "base_uri": "https://localhost:8080/"
        },
        "id": "OgU_qfokD-_P",
        "outputId": "ec793e56-7147-4f9a-ee39-5a96b69db66a"
      },
      "source": [
        "model.predict([10])"
      ],
      "execution_count": 5,
      "outputs": [
        {
          "output_type": "execute_result",
          "data": {
            "text/plain": [
              "array([[18.98146]], dtype=float32)"
            ]
          },
          "metadata": {
            "tags": []
          },
          "execution_count": 5
        }
      ]
    },
    {
      "cell_type": "code",
      "metadata": {
        "id": "HbAwicaUEF5i"
      },
      "source": [
        " def huber_loss_with_hyperparameter(threshold): \n",
        "  def huber_loss(y_true,y_pred):\n",
        "    error=y_true-y_pred\n",
        "    is_small_error=tf.abs(error)<=threshold\n",
        "    small_loss=tf.square(error) / 2\n",
        "    big_loss = threshold * (tf.abs(error) - (0.5 * threshold))\n",
        "    return tf.where(is_small_error, small_loss, big_loss)\n",
        "  return huber_loss"
      ],
      "execution_count": 8,
      "outputs": []
    },
    {
      "cell_type": "code",
      "metadata": {
        "colab": {
          "base_uri": "https://localhost:8080/"
        },
        "id": "8Ti7Hd8pFBje",
        "outputId": "c4d13bee-558e-4b70-c358-d7bf7ac7cd54"
      },
      "source": [
        "model = tf.keras.Sequential([keras.layers.Dense(units=1, input_shape=[1])])\n",
        "model.compile(optimizer='sgd', loss=huber_loss_with_hyperparameter(threshold=1.02))\n",
        "model.fit(x, y, epochs=500,verbose=0)\n",
        "print(model.predict([10]))"
      ],
      "execution_count": 12,
      "outputs": [
        {
          "output_type": "stream",
          "text": [
            "WARNING:tensorflow:5 out of the last 5 calls to <function Model.make_predict_function.<locals>.predict_function at 0x7fc18495c050> triggered tf.function retracing. Tracing is expensive and the excessive number of tracings could be due to (1) creating @tf.function repeatedly in a loop, (2) passing tensors with different shapes, (3) passing Python objects instead of tensors. For (1), please define your @tf.function outside of the loop. For (2), @tf.function has experimental_relax_shapes=True option that relaxes argument shapes that can avoid unnecessary retracing. For (3), please refer to https://www.tensorflow.org/guide/function#controlling_retracing and https://www.tensorflow.org/api_docs/python/tf/function for  more details.\n",
            "[[18.753796]]\n"
          ],
          "name": "stdout"
        }
      ]
    },
    {
      "cell_type": "code",
      "metadata": {
        "id": "-Vre49uDFLrD"
      },
      "source": [
        ""
      ],
      "execution_count": null,
      "outputs": []
    }
  ]
}